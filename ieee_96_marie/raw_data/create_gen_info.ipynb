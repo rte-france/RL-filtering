{
 "cells": [
  {
   "cell_type": "markdown",
   "metadata": {},
   "source": [
    "This notebook will create the \"gen_charac.csv\" table used by grid2op.\n",
    "\n",
    "# 1) read the .m file and save it into pandapower format"
   ]
  },
  {
   "cell_type": "code",
   "execution_count": 1,
   "metadata": {},
   "outputs": [],
   "source": [
    "import os\n",
    "import pandapower as pp\n",
    "from matpowercaseframes import CaseFrames\n",
    "import numpy as np\n",
    "import pandas as pd"
   ]
  },
  {
   "cell_type": "code",
   "execution_count": 2,
   "metadata": {},
   "outputs": [
    {
     "data": {
      "text/html": [
       "<div>\n",
       "<style scoped>\n",
       "    .dataframe tbody tr th:only-of-type {\n",
       "        vertical-align: middle;\n",
       "    }\n",
       "\n",
       "    .dataframe tbody tr th {\n",
       "        vertical-align: top;\n",
       "    }\n",
       "\n",
       "    .dataframe thead th {\n",
       "        text-align: right;\n",
       "    }\n",
       "</style>\n",
       "<table border=\"1\" class=\"dataframe\">\n",
       "  <thead>\n",
       "    <tr style=\"text-align: right;\">\n",
       "      <th></th>\n",
       "      <th>vm_pu</th>\n",
       "      <th>va_degree</th>\n",
       "      <th>p_mw</th>\n",
       "      <th>q_mvar</th>\n",
       "    </tr>\n",
       "  </thead>\n",
       "  <tbody>\n",
       "    <tr>\n",
       "      <th>0</th>\n",
       "      <td>1.046800</td>\n",
       "      <td>-3.549403</td>\n",
       "      <td>1.343116</td>\n",
       "      <td>1.819121</td>\n",
       "    </tr>\n",
       "    <tr>\n",
       "      <th>1</th>\n",
       "      <td>1.046700</td>\n",
       "      <td>-3.694747</td>\n",
       "      <td>3.659982</td>\n",
       "      <td>4.537707</td>\n",
       "    </tr>\n",
       "    <tr>\n",
       "      <th>2</th>\n",
       "      <td>1.006933</td>\n",
       "      <td>1.229403</td>\n",
       "      <td>55.856193</td>\n",
       "      <td>37.000000</td>\n",
       "    </tr>\n",
       "    <tr>\n",
       "      <th>3</th>\n",
       "      <td>1.014355</td>\n",
       "      <td>-3.584434</td>\n",
       "      <td>22.963101</td>\n",
       "      <td>15.000000</td>\n",
       "    </tr>\n",
       "    <tr>\n",
       "      <th>4</th>\n",
       "      <td>1.043385</td>\n",
       "      <td>-4.129789</td>\n",
       "      <td>22.032165</td>\n",
       "      <td>14.000000</td>\n",
       "    </tr>\n",
       "    <tr>\n",
       "      <th>...</th>\n",
       "      <td>...</td>\n",
       "      <td>...</td>\n",
       "      <td>...</td>\n",
       "      <td>...</td>\n",
       "    </tr>\n",
       "    <tr>\n",
       "      <th>68</th>\n",
       "      <td>1.050000</td>\n",
       "      <td>19.369438</td>\n",
       "      <td>0.000000</td>\n",
       "      <td>-11.005147</td>\n",
       "    </tr>\n",
       "    <tr>\n",
       "      <th>69</th>\n",
       "      <td>1.050000</td>\n",
       "      <td>21.877443</td>\n",
       "      <td>-64.806000</td>\n",
       "      <td>32.512540</td>\n",
       "    </tr>\n",
       "    <tr>\n",
       "      <th>70</th>\n",
       "      <td>1.050000</td>\n",
       "      <td>14.850281</td>\n",
       "      <td>0.000000</td>\n",
       "      <td>-40.131782</td>\n",
       "    </tr>\n",
       "    <tr>\n",
       "      <th>71</th>\n",
       "      <td>1.036771</td>\n",
       "      <td>24.551971</td>\n",
       "      <td>0.000000</td>\n",
       "      <td>0.000000</td>\n",
       "    </tr>\n",
       "    <tr>\n",
       "      <th>72</th>\n",
       "      <td>1.050789</td>\n",
       "      <td>14.891712</td>\n",
       "      <td>0.000000</td>\n",
       "      <td>0.000000</td>\n",
       "    </tr>\n",
       "  </tbody>\n",
       "</table>\n",
       "<p>73 rows × 4 columns</p>\n",
       "</div>"
      ],
      "text/plain": [
       "       vm_pu  va_degree       p_mw     q_mvar\n",
       "0   1.046800  -3.549403   1.343116   1.819121\n",
       "1   1.046700  -3.694747   3.659982   4.537707\n",
       "2   1.006933   1.229403  55.856193  37.000000\n",
       "3   1.014355  -3.584434  22.963101  15.000000\n",
       "4   1.043385  -4.129789  22.032165  14.000000\n",
       "..       ...        ...        ...        ...\n",
       "68  1.050000  19.369438   0.000000 -11.005147\n",
       "69  1.050000  21.877443 -64.806000  32.512540\n",
       "70  1.050000  14.850281   0.000000 -40.131782\n",
       "71  1.036771  24.551971   0.000000   0.000000\n",
       "72  1.050789  14.891712   0.000000   0.000000\n",
       "\n",
       "[73 rows x 4 columns]"
      ]
     },
     "execution_count": 2,
     "metadata": {},
     "output_type": "execute_result"
    }
   ],
   "source": [
    "\n",
    "path = \"h20200101_0000-m\"\n",
    "fn_ = \"h20200101_0000_nohvdc_noxnull.m\"\n",
    "fn_ = \"h20200101_0100_nobreaker_nostorage_nohvdc.m\"\n",
    "fn_ref = \"h20200101_0100_nobreaker_nostorage_nohvdc_va_ac_ref.csv\"\n",
    "grid = pp.converter.from_mpc(os.path.join(path, fn_))\n",
    "pp.rundcpp(grid)\n",
    "# now check if voltage angles match\n",
    "va_ref = pd.read_csv(os.path.join(path, fn_ref))\n",
    "pp.runpp(grid)\n",
    "grid.res_bus"
   ]
  },
  {
   "cell_type": "code",
   "execution_count": 3,
   "metadata": {},
   "outputs": [
    {
     "data": {
      "text/html": [
       "<div>\n",
       "<style scoped>\n",
       "    .dataframe tbody tr th:only-of-type {\n",
       "        vertical-align: middle;\n",
       "    }\n",
       "\n",
       "    .dataframe tbody tr th {\n",
       "        vertical-align: top;\n",
       "    }\n",
       "\n",
       "    .dataframe thead th {\n",
       "        text-align: right;\n",
       "    }\n",
       "</style>\n",
       "<table border=\"1\" class=\"dataframe\">\n",
       "  <thead>\n",
       "    <tr style=\"text-align: right;\">\n",
       "      <th></th>\n",
       "      <th>id</th>\n",
       "      <th>v_mag</th>\n",
       "    </tr>\n",
       "  </thead>\n",
       "  <tbody>\n",
       "    <tr>\n",
       "      <th>0</th>\n",
       "      <td>VL-101_0</td>\n",
       "      <td>1.05</td>\n",
       "    </tr>\n",
       "    <tr>\n",
       "      <th>1</th>\n",
       "      <td>VL-102_0</td>\n",
       "      <td>1.05</td>\n",
       "    </tr>\n",
       "    <tr>\n",
       "      <th>2</th>\n",
       "      <td>VL-103_0</td>\n",
       "      <td>1.03</td>\n",
       "    </tr>\n",
       "    <tr>\n",
       "      <th>3</th>\n",
       "      <td>VL-104_0</td>\n",
       "      <td>1.04</td>\n",
       "    </tr>\n",
       "    <tr>\n",
       "      <th>4</th>\n",
       "      <td>VL-105_0</td>\n",
       "      <td>1.05</td>\n",
       "    </tr>\n",
       "    <tr>\n",
       "      <th>...</th>\n",
       "      <td>...</td>\n",
       "      <td>...</td>\n",
       "    </tr>\n",
       "    <tr>\n",
       "      <th>68</th>\n",
       "      <td>VL-321_0</td>\n",
       "      <td>1.22</td>\n",
       "    </tr>\n",
       "    <tr>\n",
       "      <th>69</th>\n",
       "      <td>VL-322_0</td>\n",
       "      <td>1.22</td>\n",
       "    </tr>\n",
       "    <tr>\n",
       "      <th>70</th>\n",
       "      <td>VL-323_0</td>\n",
       "      <td>1.25</td>\n",
       "    </tr>\n",
       "    <tr>\n",
       "      <th>71</th>\n",
       "      <td>VL-324_0</td>\n",
       "      <td>1.27</td>\n",
       "    </tr>\n",
       "    <tr>\n",
       "      <th>72</th>\n",
       "      <td>VL-325_0</td>\n",
       "      <td>1.24</td>\n",
       "    </tr>\n",
       "  </tbody>\n",
       "</table>\n",
       "<p>73 rows × 2 columns</p>\n",
       "</div>"
      ],
      "text/plain": [
       "          id  v_mag\n",
       "0   VL-101_0   1.05\n",
       "1   VL-102_0   1.05\n",
       "2   VL-103_0   1.03\n",
       "3   VL-104_0   1.04\n",
       "4   VL-105_0   1.05\n",
       "..       ...    ...\n",
       "68  VL-321_0   1.22\n",
       "69  VL-322_0   1.22\n",
       "70  VL-323_0   1.25\n",
       "71  VL-324_0   1.27\n",
       "72  VL-325_0   1.24\n",
       "\n",
       "[73 rows x 2 columns]"
      ]
     },
     "execution_count": 3,
     "metadata": {},
     "output_type": "execute_result"
    }
   ],
   "source": [
    "va_ref"
   ]
  },
  {
   "cell_type": "code",
   "execution_count": 4,
   "metadata": {},
   "outputs": [],
   "source": [
    "# save it to json\n",
    "pp.rundcpp(grid)\n",
    "pp.to_json(grid, \"grid_v1.json\")"
   ]
  },
  {
   "cell_type": "markdown",
   "metadata": {},
   "source": [
    "## tentative debug du reseau"
   ]
  },
  {
   "cell_type": "code",
   "execution_count": 5,
   "metadata": {},
   "outputs": [],
   "source": [
    "# res = pp.converter.to_mpc(grid, os.path.join(path, \"converted.m\"))\n",
    "# pp.to_excel(grid, os.path.join(path, \"converted_pp.xlsx\"))"
   ]
  },
  {
   "cell_type": "code",
   "execution_count": 6,
   "metadata": {},
   "outputs": [],
   "source": [
    "# orig = CaseFrames(os.path.join(path, fn_))\n",
    "# orig.to_excel(os.path.join(path, \"orig.xlsx\"))"
   ]
  },
  {
   "cell_type": "code",
   "execution_count": 7,
   "metadata": {},
   "outputs": [],
   "source": [
    "if False:\n",
    "    convert = np.sort(np.unique(orig.branch.iloc[:,[0,1]].values.flatten()))\n",
    "    for (o_id, o_el), (c_oid, c_exid, c_r, c_x, c_b) in zip(orig.branch.iterrows(),\n",
    "                                                        zip(res[\"mpc\"][\"branch\"][:,0] - 1,  # python 0 based, matlab 1 based\n",
    "                                                            res[\"mpc\"][\"branch\"][:,1] - 1,  # python 0 based, matlab 1 based\n",
    "                                                            res[\"mpc\"][\"branch\"][:,2],\n",
    "                                                            res[\"mpc\"][\"branch\"][:,3],\n",
    "                                                            res[\"mpc\"][\"branch\"][:,4],\n",
    "                                                            )):\n",
    "        assert o_el[0] == convert[int(c_oid)], f\"error for {o_id} for origin bus\"\n",
    "        assert o_el[1] == convert[int(c_exid)], f\"error for {o_id} for ex bus\"\n",
    "        assert np.allclose(o_el[2], c_r), f\"error for {o_id} for r\"\n",
    "        assert np.allclose(o_el[3], c_x), f\"error for {o_id} for x\"\n",
    "        assert np.allclose(o_el[4], c_b), f\"error for {o_id} for b\""
   ]
  },
  {
   "cell_type": "markdown",
   "metadata": {},
   "source": [
    "# 2) Modify the grid to be \"easier to manipulate\""
   ]
  },
  {
   "cell_type": "code",
   "execution_count": 8,
   "metadata": {},
   "outputs": [],
   "source": [
    "grid = pp.from_json(\"grid_v1.json\")"
   ]
  },
  {
   "cell_type": "code",
   "execution_count": 9,
   "metadata": {},
   "outputs": [],
   "source": [
    "# handle the slack in the generator, and remove the \"ext_grid\", \n",
    "# otherwise pandapower might behave not as expected\n",
    "for id_, el in grid.ext_grid.iterrows():\n",
    "    pp.create_gen(grid,\n",
    "                  bus=el[\"bus\"],\n",
    "                  slack=True,\n",
    "                  vm_pu=el[\"vm_pu\"],\n",
    "                  slack_weight=el[\"slack_weight\"],\n",
    "                  p_mw=0.,\n",
    "                  in_service=el[\"in_service\"],\n",
    "                  min_p_mw=el[\"min_p_mw\"],\n",
    "                  max_p_mw=el[\"max_p_mw\"],\n",
    "                  min_q_mvar=el[\"min_q_mvar\"],\n",
    "                  max_q_mvar=el[\"max_q_mvar\"])\n",
    "# remove the now useless tables\n",
    "grid.ext_grid.drop(grid.ext_grid.index, inplace=True)"
   ]
  },
  {
   "cell_type": "markdown",
   "metadata": {},
   "source": [
    "First, let's move the static generator to sandard generators (we will use DC so there is no issue with that !)"
   ]
  },
  {
   "cell_type": "code",
   "execution_count": 10,
   "metadata": {},
   "outputs": [],
   "source": [
    "# copy sgen into generators\n",
    "for id_, el in grid.sgen.iterrows():\n",
    "    # fix voltages (sgen might be connected to buses where there are buses)\n",
    "    vm_pu = 1.0\n",
    "    has_already_gen = grid.gen.bus == el[\"bus\"]\n",
    "    if has_already_gen.any():\n",
    "        vm_pu = grid.gen.loc[has_already_gen][\"vm_pu\"].values[0]\n",
    "        \n",
    "    # now add the generator as a standard generator\n",
    "    pp.create_gen(grid,\n",
    "                  bus=el[\"bus\"],\n",
    "                  vm_pu=vm_pu,\n",
    "                  p_mw=el[\"p_mw\"],\n",
    "                  in_service=el[\"in_service\"],\n",
    "                  min_p_mw=el[\"min_p_mw\"],\n",
    "                  max_p_mw=el[\"max_p_mw\"],\n",
    "                  min_q_mvar=el[\"min_q_mvar\"],\n",
    "                  max_q_mvar=el[\"max_q_mvar\"])\n",
    "# remove the now useless tables\n",
    "grid.sgen.drop(grid.sgen.index, inplace=True)\n",
    "grid.res_sgen.drop(grid.res_sgen.index, inplace=True)"
   ]
  },
  {
   "cell_type": "code",
   "execution_count": 11,
   "metadata": {},
   "outputs": [
    {
     "data": {
      "text/plain": [
       "56.18951851999964"
      ]
     },
     "execution_count": 11,
     "metadata": {},
     "output_type": "execute_result"
    }
   ],
   "source": [
    "# check that the sum of generation and load matches (hopefully)\n",
    "grid.load[\"p_mw\"].sum() - grid.gen[\"p_mw\"].sum()"
   ]
  },
  {
   "cell_type": "code",
   "execution_count": 12,
   "metadata": {},
   "outputs": [],
   "source": [
    "pp.rundcpp(grid)"
   ]
  },
  {
   "cell_type": "code",
   "execution_count": 13,
   "metadata": {},
   "outputs": [],
   "source": [
    "pp.to_json(grid, \"grid_final.json\")\n",
    "pp.to_json(grid, \"grid.json\")"
   ]
  }
 ],
 "metadata": {
  "kernelspec": {
   "display_name": "Python 3.8.10 64-bit",
   "language": "python",
   "name": "python3"
  },
  "language_info": {
   "codemirror_mode": {
    "name": "ipython",
    "version": 3
   },
   "file_extension": ".py",
   "mimetype": "text/x-python",
   "name": "python",
   "nbconvert_exporter": "python",
   "pygments_lexer": "ipython3",
   "version": "3.8.10"
  },
  "orig_nbformat": 4,
  "vscode": {
   "interpreter": {
    "hash": "916dbcbb3f70747c44a77c7bcd40155683ae19c65e1c03b4aa3499c5328201f1"
   }
  }
 },
 "nbformat": 4,
 "nbformat_minor": 2
}
